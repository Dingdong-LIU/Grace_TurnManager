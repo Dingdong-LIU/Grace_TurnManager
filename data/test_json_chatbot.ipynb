{
 "cells": [
  {
   "cell_type": "code",
   "execution_count": null,
   "metadata": {},
   "outputs": [],
   "source": [
    "import pandas as pd"
   ]
  },
  {
   "cell_type": "code",
   "execution_count": null,
   "metadata": {},
   "outputs": [],
   "source": [
    "df = pd.read_excel('./intent_emotion_mapping.xlsx')\n",
    "df.head()"
   ]
  },
  {
   "cell_type": "code",
   "execution_count": null,
   "metadata": {},
   "outputs": [],
   "source": [
    "intent_name = \"Default Welcome Intent\"\n",
    "df[df[\"Intent Name\"] == intent_name]"
   ]
  },
  {
   "cell_type": "code",
   "execution_count": null,
   "metadata": {},
   "outputs": [],
   "source": [
    "def lookup_table(df:pd.DataFrame, intent_name:str):\n",
    "    df_line = df[df[\"Intent Name\"] == intent_name]\n",
    "    lookup_result = {}\n",
    "\n",
    "    lookup_result['expressions'] = df_line[\"POSES\"].item()\n",
    "    lookup_result['exp_start'] = df_line[\"E_Start (%)\"].item()/100\n",
    "    lookup_result['exp_end'] = df_line[\"E_End (%)\"].item()/100\n",
    "    lookup_result['exp_mag'] = df_line[\"Magnitude\"].item()\n",
    "    return lookup_result\n",
    "    "
   ]
  },
  {
   "cell_type": "markdown",
   "metadata": {},
   "source": []
  },
  {
   "cell_type": "code",
   "execution_count": null,
   "metadata": {},
   "outputs": [],
   "source": [
    "intent_name = \"(Special) Gracefully exit\"\n",
    "df_line = df[df[\"Intent Name\"] == intent_name]"
   ]
  },
  {
   "cell_type": "code",
   "execution_count": null,
   "metadata": {},
   "outputs": [],
   "source": [
    "df_line"
   ]
  },
  {
   "cell_type": "code",
   "execution_count": null,
   "metadata": {},
   "outputs": [],
   "source": [
    "lookup_table(df, \"(Q1.Success) Age\")"
   ]
  },
  {
   "cell_type": "code",
   "execution_count": null,
   "metadata": {},
   "outputs": [],
   "source": [
    "import requests \n",
    "import random\n",
    "\n",
    "NGROK_LINK = 'https://b6cf-143-89-145-170.ngrok-free.app'\n",
    "class DIALOG_HANDLR:\n",
    "    def __init__(self) -> None:\n",
    "        self.session_id = random.randint(10000000, 500000000)\n",
    "\n",
    "    def test(self):\n",
    "        print(self.session_id)  \n",
    "\n",
    "    def communicate(self, asr_text):\n",
    "        response = requests.post(\n",
    "            f\"{NGROK_LINK}/dialogflow_result\",\n",
    "            json={\n",
    "                \"text\": asr_text,\n",
    "                \"session_id\": self.session_id\n",
    "            }\n",
    "        )\n",
    "        return response.json()"
   ]
  },
  {
   "cell_type": "code",
   "execution_count": null,
   "metadata": {},
   "outputs": [],
   "source": [
    "handler = DIALOG_HANDLR()\n",
    "print(handler.session_id)\n",
    "res = handler.communicate(\"This is a magic phrase to initialize grace agent to welcome intent.\")"
   ]
  },
  {
   "cell_type": "code",
   "execution_count": null,
   "metadata": {},
   "outputs": [],
   "source": [
    "res"
   ]
  },
  {
   "cell_type": "code",
   "execution_count": null,
   "metadata": {},
   "outputs": [],
   "source": [
    "handler.communicate(\"gracefully exit the interaction.\")"
   ]
  },
  {
   "cell_type": "code",
   "execution_count": null,
   "metadata": {},
   "outputs": [],
   "source": [
    "lookup_table(df, '(Q1.Fail) Age - From fallback')"
   ]
  },
  {
   "cell_type": "code",
   "execution_count": null,
   "metadata": {},
   "outputs": [],
   "source": [
    "res[\"responses\"]['text']"
   ]
  },
  {
   "cell_type": "code",
   "execution_count": null,
   "metadata": {},
   "outputs": [],
   "source": []
  }
 ],
 "metadata": {
  "kernelspec": {
   "display_name": "venv",
   "language": "python",
   "name": "python3"
  },
  "language_info": {
   "codemirror_mode": {
    "name": "ipython",
    "version": 3
   },
   "file_extension": ".py",
   "mimetype": "text/x-python",
   "name": "python",
   "nbconvert_exporter": "python",
   "pygments_lexer": "ipython3",
   "version": "3.9.5"
  },
  "orig_nbformat": 4
 },
 "nbformat": 4,
 "nbformat_minor": 2
}
